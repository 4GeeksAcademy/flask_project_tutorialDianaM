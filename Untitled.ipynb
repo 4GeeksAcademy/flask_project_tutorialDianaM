{
 "cells": [
  {
   "cell_type": "code",
   "execution_count": 3,
   "id": "41997093-6e48-4798-a34a-ca39af3b689e",
   "metadata": {},
   "outputs": [
    {
     "data": {
      "text/plain": [
       "['optimized_random_forest_model.joblib']"
      ]
     },
     "execution_count": 3,
     "metadata": {},
     "output_type": "execute_result"
    }
   ],
   "source": [
    "# Import necessary libraries\n",
    "import pandas as pd\n",
    "import numpy as np\n",
    "from sklearn.datasets import load_iris\n",
    "from sklearn.model_selection import train_test_split\n",
    "from sklearn.ensemble import RandomForestClassifier\n",
    "from joblib import dump\n",
    "\n",
    "# Load the Iris dataset\n",
    "X, y = load_iris(return_X_y=True, as_frame=True)\n",
    "\n",
    "# Split the data into training and testing sets\n",
    "X_train, X_test, y_train, y_test = train_test_split(X, y, test_size=0.2, random_state=42)\n",
    "\n",
    "# Train a RandomForestClassifier\n",
    "model = RandomForestClassifier(n_estimators=1000, max_depth=5, min_samples_split=5, min_samples_leaf=2, random_state=42)\n",
    "model.fit(X_train, y_train)\n",
    "\n",
    "# Save the model using joblib\n",
    "dump(model, 'optimized_random_forest_model.joblib')"
   ]
  },
  {
   "cell_type": "code",
   "execution_count": null,
   "id": "8042d379-2c2d-4540-972b-6b4a9af1106f",
   "metadata": {},
   "outputs": [],
   "source": []
  },
  {
   "cell_type": "code",
   "execution_count": null,
   "id": "fbd95d57-5cae-47c0-af4f-86a961933246",
   "metadata": {},
   "outputs": [],
   "source": []
  }
 ],
 "metadata": {
  "kernelspec": {
   "display_name": "Python 3 (ipykernel)",
   "language": "python",
   "name": "python3"
  },
  "language_info": {
   "codemirror_mode": {
    "name": "ipython",
    "version": 3
   },
   "file_extension": ".py",
   "mimetype": "text/x-python",
   "name": "python",
   "nbconvert_exporter": "python",
   "pygments_lexer": "ipython3",
   "version": "3.13.1"
  }
 },
 "nbformat": 4,
 "nbformat_minor": 5
}
